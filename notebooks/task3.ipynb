{
  "cells": [
    {
      "cell_type": "markdown",
      "metadata": {
        "id": "0WHIedsP6UxP"
      },
      "source": [
        "###Introduction\n",
        "The purpose of the analysis is to answer two questions:\n",
        "- Which topics are the most/least explored per company-industry?\n",
        "- Are there any groups of keywords that are explored together?\n",
        "\n",
        "## Dataset\n",
        "I will be using the processed version of the original dataset, that is dataset plus trendscores column."
      ]
    },
    {
      "cell_type": "code",
      "execution_count": 4,
      "metadata": {
        "colab": {
          "base_uri": "https://localhost:8080/"
        },
        "id": "8HtWLgSD6KK-",
        "outputId": "52ee1abd-a734-4d02-dcad-58b7d69fdf98"
      },
      "outputs": [],
      "source": [
        "import pandas as pd\n",
        "import numpy as np\n",
        "import matplotlib.pyplot as plt\n",
        "import seaborn as sns\n",
        "from scipy.stats import zscore\n",
        "from mlxtend.preprocessing import TransactionEncoder\n",
        "from mlxtend.frequent_patterns import apriori, association_rules\n",
        "from sklearn.cluster import KMeans\n",
        "from sklearn.preprocessing import StandardScaler\n",
        "\n",
        "import warnings\n",
        "warnings.filterwarnings('ignore')"
      ]
    },
    {
      "cell_type": "code",
      "execution_count": 6,
      "metadata": {
        "colab": {
          "base_uri": "https://localhost:8080/"
        },
        "id": "yQji6nNS6SJl",
        "outputId": "43e2aa9f-14bb-496f-b614-a54fd8f9f828"
      },
      "outputs": [],
      "source": [
        "df = pd.read_csv(\"./../output.csv\")"
      ]
    },
    {
      "cell_type": "code",
      "execution_count": 7,
      "metadata": {
        "colab": {
          "base_uri": "https://localhost:8080/"
        },
        "id": "1YUCT28D6zPB",
        "outputId": "be5a6f98-c43f-4deb-b3c0-d377a8938af4"
      },
      "outputs": [
        {
          "name": "stdout",
          "output_type": "stream",
          "text": [
            "<class 'pandas.core.frame.DataFrame'>\n",
            "RangeIndex: 1641482 entries, 0 to 1641481\n",
            "Data columns (total 7 columns):\n",
            " #   Column          Non-Null Count    Dtype  \n",
            "---  ------          --------------    -----  \n",
            " 0   company_id      1641482 non-null  int64  \n",
            " 1   topic_id        1641482 non-null  int64  \n",
            " 2   category_id     1641482 non-null  float64\n",
            " 3   industry_id     1641482 non-null  float64\n",
            " 4   week            1641482 non-null  int64  \n",
            " 5   interest_level  1641482 non-null  float64\n",
            " 6   trend_score     1641482 non-null  float64\n",
            "dtypes: float64(4), int64(3)\n",
            "memory usage: 87.7 MB\n"
          ]
        }
      ],
      "source": [
        "df.info()"
      ]
    },
    {
      "cell_type": "markdown",
      "metadata": {
        "id": "9MmV2guFOZLu"
      },
      "source": [
        "#Exploration of Topics per Company-Industry\n",
        "\n",
        "Here we need to keep in mind that each company only has 1 industry, however each industry might have multiple companies in it. Since we have 8717 different companies I don't think there is much point into delving into each company to see what they are interested in and what they are not (especially since we don't have interest levels for every topic). Therefore I will perform interest-level and trend analysis per industry. For company analysis I will only look at whether some company has abnormaly large interest for a topic."
      ]
    },
    {
      "cell_type": "code",
      "execution_count": 8,
      "metadata": {
        "colab": {
          "base_uri": "https://localhost:8080/"
        },
        "id": "F01p4Qkd1fWk",
        "outputId": "1dc6379b-3538-4f9f-f2e6-4573bd46b8b0"
      },
      "outputs": [],
      "source": [
        "industry_topic_agg = df.groupby(['industry_id', 'topic_id']).agg(\n",
        "    avg_interest_level=pd.NamedAgg(column='interest_level', aggfunc='mean'),\n",
        "    avg_trend_score=pd.NamedAgg(column='trend_score', aggfunc='mean')\n",
        ").reset_index()\n",
        "\n",
        "# I will use this aggregate table for future analysis"
      ]
    },
    {
      "cell_type": "code",
      "execution_count": 9,
      "metadata": {
        "colab": {
          "base_uri": "https://localhost:8080/"
        },
        "id": "Nbvc1Xgx8tG3",
        "outputId": "a07ad138-c1d1-455a-fd75-83e512d76fc8"
      },
      "outputs": [
        {
          "data": {
            "text/plain": [
              "(      industry_id  topic_id  avg_interest_level  avg_trend_score  \\\n",
              " 4255         58.0        70           60.000000        67.932238   \n",
              " 1409        114.0        22           77.000000        60.016006   \n",
              " 6203         13.0        92           50.400000        49.149840   \n",
              " 6156         86.0        91           50.111111        52.392192   \n",
              " 365          86.0         8           61.111111        58.875441   \n",
              " \n",
              "       mean_interest_level    z_score  abs_z_score  \n",
              " 4255            22.474329  10.306283    10.306283  \n",
              " 1409            23.799746   9.283660     9.283660  \n",
              " 6203            22.729542   8.859764     8.859764  \n",
              " 6156            23.033924   8.570921     8.570921  \n",
              " 365             23.777435   8.567477     8.567477  ,\n",
              "       industry_id  topic_id  avg_interest_level  avg_trend_score  \\\n",
              " 2147         40.0        40                12.0        51.912772   \n",
              " 7018        121.0       107                13.0        51.986556   \n",
              " 4937         40.0        79                12.0        52.390965   \n",
              " 2098        121.0        39                13.5        51.197015   \n",
              " 5990         29.0        90                12.0        52.390965   \n",
              " \n",
              "       mean_interest_level   z_score  abs_z_score  \n",
              " 2147            21.889391 -7.682377     7.682377  \n",
              " 7018            22.176330 -7.061196     7.061196  \n",
              " 4937            21.999866 -6.133799     6.133799  \n",
              " 2098            22.202324 -6.034520     6.034520  \n",
              " 5990            22.374243 -6.020398     6.020398  )"
            ]
          },
          "execution_count": 9,
          "metadata": {},
          "output_type": "execute_result"
        }
      ],
      "source": [
        "# Calculate the mean interest level for each topic across all industries and z-score for each industry's interest level\n",
        "topic_mean_interest = industry_topic_agg.groupby('topic_id')['avg_interest_level'].mean().reset_index(name='mean_interest_level')\n",
        "\n",
        "industry_topic_interest_with_mean = pd.merge(industry_topic_agg, topic_mean_interest, on='topic_id')\n",
        "industry_topic_interest_with_mean['z_score'] = industry_topic_interest_with_mean.groupby('topic_id')['avg_interest_level'].transform(\n",
        "    lambda x: zscore(x, ddof=1))\n",
        "\n",
        "# Identify industries with abnormally high/low interest in topics\n",
        "# Using ±2 as the threshold for significant deviation\n",
        "abnormal_interest_industries = industry_topic_interest_with_mean[\n",
        "    (industry_topic_interest_with_mean['z_score'] > 2) | (industry_topic_interest_with_mean['z_score'] < -2)\n",
        "]\n",
        "# sort by abs z-score\n",
        "abnormal_interest_industries_sorted = abnormal_interest_industries.copy()\n",
        "abnormal_interest_industries_sorted['abs_z_score'] = abnormal_interest_industries_sorted['z_score'].abs()\n",
        "\n",
        "abnormal_interest_industries_sorted = abnormal_interest_industries_sorted.sort_values(by='abs_z_score', ascending=False)\n",
        "\n",
        "most_positive_z_scores = abnormal_interest_industries_sorted.sort_values(by='z_score', ascending=False).head()\n",
        "most_negative_z_scores = abnormal_interest_industries_sorted.sort_values(by='z_score', ascending=True).head()\n",
        "\n",
        "most_positive_z_scores, most_negative_z_scores\n"
      ]
    },
    {
      "cell_type": "markdown",
      "metadata": {
        "id": "hZnZUjmL-HAp"
      },
      "source": [
        "Industries with the Highest Positive Z-scores:\n",
        "* Industry 58 for Topic 70: An average interest level of 60.00 with a z-score of +10.31, indicating significantly higher interest.\n",
        "* Industry 114 for Topic 22: An average interest level of 77.00 with a z-score of +9.28.\n",
        "* Industry 13 for Topic 92: An average interest level of 50.40 with a z-score of +8.86.\n",
        "* Industry 86 for both Topic 91 and Topic 8: Showing high interest levels of 50.11 and 61.11, respectively, with z-scores of +8.57.\n",
        "\n",
        "Industries with the Highest Negative Z-scores:\n",
        "* Industry 40 for Topic 40: An average interest level of 12.00 with a z-score of -7.68, indicating significantly lower interest than average.\n",
        "* Industry 121 for Topic 107: An average interest level of 13.00 with a z-score of -7.06.\n",
        "* Industry 40 for Topic 79: Another instance where Industry 40 shows a low interest (12.00) with a z-score of -6.13.\n",
        "* Industry 121 for Topic 39: An average interest level of 13.5 with a z-score of -6.03.\n",
        "Industry 29 for Topic 90: An average interest level of 12.00 with a z-score of -6.02."
      ]
    },
    {
      "cell_type": "markdown",
      "metadata": {
        "id": "IFlBWR1w-Ecy"
      },
      "source": [
        "trend:"
      ]
    },
    {
      "cell_type": "code",
      "execution_count": 10,
      "metadata": {
        "colab": {
          "base_uri": "https://localhost:8080/"
        },
        "id": "ZFberTul9auC",
        "outputId": "66adb393-e912-4969-afb5-2a4173f744bb"
      },
      "outputs": [
        {
          "data": {
            "text/plain": [
              "(      industry_id  topic_id  avg_interest_level  avg_trend_score  \\\n",
              " 4255         58.0        70           60.000000        67.932238   \n",
              " 6587         13.0       100           32.833333        57.949654   \n",
              " 1409        114.0        22           77.000000        60.016006   \n",
              " 4024         53.0        68           44.000000        57.212670   \n",
              " 2001         17.0        39           20.500000        57.577716   \n",
              " \n",
              "       mean_trend_score  z_score_trend  abs_z_score_trend  \n",
              " 4255         51.833089       9.894425           9.894425  \n",
              " 6587         51.061576       8.133681           8.133681  \n",
              " 1409         51.738036       8.092307           8.092307  \n",
              " 4024         51.771296       7.907398           7.907398  \n",
              " 2001         51.521376       7.808587           7.808587  ,\n",
              "       industry_id  topic_id  avg_interest_level  avg_trend_score  \\\n",
              " 2537          9.0        47           32.666667        45.396408   \n",
              " 2242         13.0        41           29.888889        43.007371   \n",
              " 5649        120.0        86           26.000000        46.613320   \n",
              " 7415         86.0       111           30.916667        44.104941   \n",
              " 4094          0.0        69           28.230769        46.301832   \n",
              " \n",
              "       mean_trend_score  z_score_trend  abs_z_score_trend  \n",
              " 2537         52.316663      -8.184095           8.184095  \n",
              " 2242         51.540706      -6.109766           6.109766  \n",
              " 5649         51.591334      -6.014450           6.014450  \n",
              " 7415         51.203382      -5.946284           5.946284  \n",
              " 4094         51.754123      -5.889990           5.889990  )"
            ]
          },
          "execution_count": 10,
          "metadata": {},
          "output_type": "execute_result"
        }
      ],
      "source": [
        "# Calculate the mean trend score for each topic across all industries\n",
        "topic_mean_trend = industry_topic_agg.groupby('topic_id')['avg_trend_score'].mean().reset_index(name='mean_trend_score')\n",
        "\n",
        "# Merge this mean trend score back with the aggregated data\n",
        "industry_topic_trend_with_mean = pd.merge(industry_topic_agg, topic_mean_trend, on='topic_id')\n",
        "\n",
        "# Calculate z-scores for the average trend score of each topic within each industry\n",
        "industry_topic_trend_with_mean['z_score_trend'] = industry_topic_trend_with_mean.groupby('topic_id')['avg_trend_score'].transform(\n",
        "    lambda x: zscore(x, ddof=1))\n",
        "\n",
        "# Add a column for the absolute value of the z-score for sorting purposes\n",
        "industry_topic_trend_with_mean['abs_z_score_trend'] = industry_topic_trend_with_mean['z_score_trend'].abs()\n",
        "\n",
        "# Sort to find the most positive and most negative z-scores for trend scores\n",
        "most_positive_z_scores_trend = industry_topic_trend_with_mean.sort_values(by='z_score_trend', ascending=False).head()\n",
        "most_negative_z_scores_trend = industry_topic_trend_with_mean.sort_values(by='z_score_trend', ascending=True).head()\n",
        "\n",
        "most_positive_z_scores_trend, most_negative_z_scores_trend"
      ]
    },
    {
      "cell_type": "markdown",
      "metadata": {
        "id": "A_sgNDwv-UIr"
      },
      "source": [
        "Industries with the Highest Positive Z-scores for Trend Scores:\n",
        "* Industry 58 for Topic 70: An average trend score of 67.93 with a z-score of +9.89, indicating a rapidly increasing interest.\n",
        "* Industry 13 for Topic 100: An average trend score of 57.95 with a z-score of +8.13.\n",
        "* Industry 114 for Topic 22: An average trend score of 60.02 with a z-score of +8.09.\n",
        "* Industry 53 for Topic 68: An average trend score of 57.21 with a z-score of +7.91.\n",
        "* Industry 17 for Topic 39: An average trend score of 57.58 with a z-score of +7.81.\n",
        "\n",
        "Industries with the Highest Negative Z-scores for Trend Scores:\n",
        "* Industry 9 for Topic 47: An average trend score of 45.40 with a z-score of -8.18, indicating a rapidly decreasing interest.\n",
        "* Industry 13 for Topic 41: An average trend score of 43.01 with a z-score of -6.11.\n",
        "* Industry 120 for Topic 86: An average trend score of 46.61 with a z-score of -6.01.\n",
        "* Industry 86 for Topic 111: An average trend score of 44.10 with a z-score of -5.95.\n",
        "* Industry 0 for Topic 69: An average trend score of 46.30 with a z-score of -5.89."
      ]
    },
    {
      "cell_type": "markdown",
      "metadata": {
        "id": "AQLj-M5SDHZL"
      },
      "source": [
        "There is a lot of overlap between industry interest level and trend score analysis for high interest topics! Specifically industry 58 seems to be very interested in topic 70 and industry 114 in topic 100 (Both discrete interest levels and continuous trend scores capture this)."
      ]
    },
    {
      "cell_type": "markdown",
      "metadata": {
        "id": "UzlA2QkV-h6l"
      },
      "source": [
        "## Now lets explore abnormaly interested companies in a topic (compared to their industry)."
      ]
    },
    {
      "cell_type": "code",
      "execution_count": 11,
      "metadata": {
        "colab": {
          "base_uri": "https://localhost:8080/",
          "height": 261
        },
        "id": "7h9He43z_LyI",
        "outputId": "c160dcd1-7c72-4618-eaf9-ee6eba72c069"
      },
      "outputs": [
        {
          "data": {
            "text/html": [
              "<div>\n",
              "<style scoped>\n",
              "    .dataframe tbody tr th:only-of-type {\n",
              "        vertical-align: middle;\n",
              "    }\n",
              "\n",
              "    .dataframe tbody tr th {\n",
              "        vertical-align: top;\n",
              "    }\n",
              "\n",
              "    .dataframe thead th {\n",
              "        text-align: right;\n",
              "    }\n",
              "</style>\n",
              "<table border=\"1\" class=\"dataframe\">\n",
              "  <thead>\n",
              "    <tr style=\"text-align: right;\">\n",
              "      <th></th>\n",
              "      <th>company_id</th>\n",
              "      <th>topic_id</th>\n",
              "      <th>category_id</th>\n",
              "      <th>industry_id</th>\n",
              "      <th>week</th>\n",
              "      <th>interest_level</th>\n",
              "      <th>trend_score</th>\n",
              "      <th>industry_topic_mean_interest</th>\n",
              "      <th>z_score_company_vs_industry</th>\n",
              "    </tr>\n",
              "  </thead>\n",
              "  <tbody>\n",
              "    <tr>\n",
              "      <th>929667</th>\n",
              "      <td>1153</td>\n",
              "      <td>79</td>\n",
              "      <td>11.0</td>\n",
              "      <td>127.0</td>\n",
              "      <td>8</td>\n",
              "      <td>92.0</td>\n",
              "      <td>63.460850</td>\n",
              "      <td>21.698914</td>\n",
              "      <td>15.133868</td>\n",
              "    </tr>\n",
              "    <tr>\n",
              "      <th>135328</th>\n",
              "      <td>218</td>\n",
              "      <td>81</td>\n",
              "      <td>12.0</td>\n",
              "      <td>79.0</td>\n",
              "      <td>4</td>\n",
              "      <td>92.0</td>\n",
              "      <td>66.350348</td>\n",
              "      <td>21.944690</td>\n",
              "      <td>15.067009</td>\n",
              "    </tr>\n",
              "    <tr>\n",
              "      <th>1051539</th>\n",
              "      <td>4851</td>\n",
              "      <td>110</td>\n",
              "      <td>7.0</td>\n",
              "      <td>70.0</td>\n",
              "      <td>1</td>\n",
              "      <td>88.0</td>\n",
              "      <td>94.897959</td>\n",
              "      <td>21.805866</td>\n",
              "      <td>15.003988</td>\n",
              "    </tr>\n",
              "    <tr>\n",
              "      <th>982723</th>\n",
              "      <td>7339</td>\n",
              "      <td>79</td>\n",
              "      <td>11.0</td>\n",
              "      <td>10.0</td>\n",
              "      <td>7</td>\n",
              "      <td>93.0</td>\n",
              "      <td>63.830011</td>\n",
              "      <td>21.575651</td>\n",
              "      <td>14.862543</td>\n",
              "    </tr>\n",
              "    <tr>\n",
              "      <th>89947</th>\n",
              "      <td>5958</td>\n",
              "      <td>64</td>\n",
              "      <td>0.0</td>\n",
              "      <td>109.0</td>\n",
              "      <td>9</td>\n",
              "      <td>94.0</td>\n",
              "      <td>61.170405</td>\n",
              "      <td>21.619343</td>\n",
              "      <td>14.719215</td>\n",
              "    </tr>\n",
              "  </tbody>\n",
              "</table>\n",
              "</div>"
            ],
            "text/plain": [
              "         company_id  topic_id  category_id  industry_id  week  interest_level  \\\n",
              "929667         1153        79         11.0        127.0     8            92.0   \n",
              "135328          218        81         12.0         79.0     4            92.0   \n",
              "1051539        4851       110          7.0         70.0     1            88.0   \n",
              "982723         7339        79         11.0         10.0     7            93.0   \n",
              "89947          5958        64          0.0        109.0     9            94.0   \n",
              "\n",
              "         trend_score  industry_topic_mean_interest  \\\n",
              "929667     63.460850                     21.698914   \n",
              "135328     66.350348                     21.944690   \n",
              "1051539    94.897959                     21.805866   \n",
              "982723     63.830011                     21.575651   \n",
              "89947      61.170405                     21.619343   \n",
              "\n",
              "         z_score_company_vs_industry  \n",
              "929667                     15.133868  \n",
              "135328                     15.067009  \n",
              "1051539                    15.003988  \n",
              "982723                     14.862543  \n",
              "89947                      14.719215  "
            ]
          },
          "execution_count": 11,
          "metadata": {},
          "output_type": "execute_result"
        }
      ],
      "source": [
        "# Calculate the mean interest level for each topic within each industry\n",
        "industry_topic_mean_interest =df.groupby(['industry_id', 'topic_id'])['interest_level'].mean().reset_index(name='industry_topic_mean_interest')\n",
        "\n",
        "# Merge this mean interest level back with the original data\n",
        "data_with_industry_mean = pd.merge(df, industry_topic_mean_interest, on=['industry_id', 'topic_id'])\n",
        "\n",
        "# Calculate z-scores for the interest level of each company-topic combination within each industry\n",
        "data_with_industry_mean['z_score_company_vs_industry'] = data_with_industry_mean.groupby(['industry_id', 'topic_id'])['interest_level'].transform(\n",
        "    lambda x: (x - x.mean()) / x.std(ddof=0))\n",
        "\n",
        "# Filter to find companies with z-scores indicating significantly higher interest than their industry average\n",
        "# Using a threshold of z > 2 for significant deviation\n",
        "companies_with_high_interest = data_with_industry_mean[data_with_industry_mean['z_score_company_vs_industry'] > 2]\n",
        "\n",
        "# Sort the results to highlight the most significant deviations\n",
        "companies_with_high_interest_sorted = companies_with_high_interest.sort_values(by='z_score_company_vs_industry', ascending=False)\n",
        "\n",
        "companies_with_high_interest_sorted.head()\n"
      ]
    },
    {
      "cell_type": "markdown",
      "metadata": {
        "id": "za0I3FXwBjAS"
      },
      "source": [
        "* Company 1153 in Industry 127 for Topic 79 has a z-score of +15.13, indicating an abnormally high interest compared to the industry average.\n",
        "* Company 218 in Industry 79 for Topic 81 has a z-score of +15.07.\n",
        "* Company 4851 in Industry 70 for Topic 110 has a z-score of +15.00.\n",
        "* Company 7339 in Industry 10 for Topic 79 has a z-score of +14.86.\n",
        "* Company 5958 in Industry 109 for Topic 64 has an interest level of 94, with a z-score of +14.72."
      ]
    },
    {
      "cell_type": "code",
      "execution_count": 12,
      "metadata": {
        "colab": {
          "base_uri": "https://localhost:8080/",
          "height": 261
        },
        "id": "hEHjgrMVBQmj",
        "outputId": "ae482164-a78b-49e2-ba2d-376a57555655"
      },
      "outputs": [
        {
          "data": {
            "text/html": [
              "<div>\n",
              "<style scoped>\n",
              "    .dataframe tbody tr th:only-of-type {\n",
              "        vertical-align: middle;\n",
              "    }\n",
              "\n",
              "    .dataframe tbody tr th {\n",
              "        vertical-align: top;\n",
              "    }\n",
              "\n",
              "    .dataframe thead th {\n",
              "        text-align: right;\n",
              "    }\n",
              "</style>\n",
              "<table border=\"1\" class=\"dataframe\">\n",
              "  <thead>\n",
              "    <tr style=\"text-align: right;\">\n",
              "      <th></th>\n",
              "      <th>company_id</th>\n",
              "      <th>topic_id</th>\n",
              "      <th>category_id</th>\n",
              "      <th>industry_id</th>\n",
              "      <th>week</th>\n",
              "      <th>interest_level</th>\n",
              "      <th>trend_score</th>\n",
              "      <th>industry_topic_mean_trend</th>\n",
              "      <th>z_score_company_vs_industry_trend</th>\n",
              "    </tr>\n",
              "  </thead>\n",
              "  <tbody>\n",
              "    <tr>\n",
              "      <th>801242</th>\n",
              "      <td>5751</td>\n",
              "      <td>63</td>\n",
              "      <td>6.0</td>\n",
              "      <td>42.0</td>\n",
              "      <td>1</td>\n",
              "      <td>89.0</td>\n",
              "      <td>95.408163</td>\n",
              "      <td>51.328048</td>\n",
              "      <td>20.750091</td>\n",
              "    </tr>\n",
              "    <tr>\n",
              "      <th>1065965</th>\n",
              "      <td>1256</td>\n",
              "      <td>63</td>\n",
              "      <td>6.0</td>\n",
              "      <td>70.0</td>\n",
              "      <td>1</td>\n",
              "      <td>81.0</td>\n",
              "      <td>91.326531</td>\n",
              "      <td>51.277264</td>\n",
              "      <td>20.622735</td>\n",
              "    </tr>\n",
              "    <tr>\n",
              "      <th>1051539</th>\n",
              "      <td>4851</td>\n",
              "      <td>110</td>\n",
              "      <td>7.0</td>\n",
              "      <td>70.0</td>\n",
              "      <td>1</td>\n",
              "      <td>88.0</td>\n",
              "      <td>94.897959</td>\n",
              "      <td>51.100543</td>\n",
              "      <td>19.395669</td>\n",
              "    </tr>\n",
              "    <tr>\n",
              "      <th>162855</th>\n",
              "      <td>683</td>\n",
              "      <td>63</td>\n",
              "      <td>6.0</td>\n",
              "      <td>127.0</td>\n",
              "      <td>1</td>\n",
              "      <td>82.0</td>\n",
              "      <td>91.836735</td>\n",
              "      <td>51.411710</td>\n",
              "      <td>19.152398</td>\n",
              "    </tr>\n",
              "    <tr>\n",
              "      <th>673680</th>\n",
              "      <td>344</td>\n",
              "      <td>64</td>\n",
              "      <td>0.0</td>\n",
              "      <td>10.0</td>\n",
              "      <td>1</td>\n",
              "      <td>82.0</td>\n",
              "      <td>91.836735</td>\n",
              "      <td>51.310140</td>\n",
              "      <td>19.007717</td>\n",
              "    </tr>\n",
              "  </tbody>\n",
              "</table>\n",
              "</div>"
            ],
            "text/plain": [
              "         company_id  topic_id  category_id  industry_id  week  interest_level  \\\n",
              "801242         5751        63          6.0         42.0     1            89.0   \n",
              "1065965        1256        63          6.0         70.0     1            81.0   \n",
              "1051539        4851       110          7.0         70.0     1            88.0   \n",
              "162855          683        63          6.0        127.0     1            82.0   \n",
              "673680          344        64          0.0         10.0     1            82.0   \n",
              "\n",
              "         trend_score  industry_topic_mean_trend  \\\n",
              "801242     95.408163                  51.328048   \n",
              "1065965    91.326531                  51.277264   \n",
              "1051539    94.897959                  51.100543   \n",
              "162855     91.836735                  51.411710   \n",
              "673680     91.836735                  51.310140   \n",
              "\n",
              "         z_score_company_vs_industry_trend  \n",
              "801242                           20.750091  \n",
              "1065965                          20.622735  \n",
              "1051539                          19.395669  \n",
              "162855                           19.152398  \n",
              "673680                           19.007717  "
            ]
          },
          "execution_count": 12,
          "metadata": {},
          "output_type": "execute_result"
        }
      ],
      "source": [
        "# Trend scores analysis\n",
        "\n",
        "industry_topic_mean_trend = df.groupby(['industry_id', 'topic_id'])['trend_score'].mean().reset_index(name='industry_topic_mean_trend')\n",
        "data_with_industry_mean_trend = pd.merge(df, industry_topic_mean_trend, on=['industry_id', 'topic_id'])\n",
        "\n",
        "# Calculate z-scores for the trend score of each company-topic combination within each industry\n",
        "data_with_industry_mean_trend['z_score_company_vs_industry_trend'] = data_with_industry_mean_trend.groupby(['industry_id', 'topic_id'])['trend_score'].transform(\n",
        "    lambda x: (x - x.mean()) / x.std(ddof=0))\n",
        "\n",
        "# Filter to find companies with z-scores indicating significantly higher or lower trends than their industry average\n",
        "# Using a threshold of z > 2\n",
        "companies_with_significant_trend_deviations = data_with_industry_mean_trend[\n",
        "    (data_with_industry_mean_trend['z_score_company_vs_industry_trend'] > 2)]\n",
        "\n",
        "# Sort the results to highlight the most significant positive and negative deviations\n",
        "companies_with_significant_trend_deviations_sorted = companies_with_significant_trend_deviations.sort_values(by='z_score_company_vs_industry_trend', key=abs, ascending=False)\n",
        "\n",
        "companies_with_significant_trend_deviations_sorted.head()\n"
      ]
    },
    {
      "cell_type": "markdown",
      "metadata": {
        "id": "jaDiFSJ0BVzs"
      },
      "source": [
        "* Company 5751 in Industry 42 for Topic 63 has a z-score of +20.75, indicating a significantly higher trend score compared to the industry average.\n",
        "* Company 1256 in Industry 70 for Topic 63 shows a z-score of +20.62.\n",
        "* Company 4851 in Industry 70 for Topic 110 has a z-score of +19.40.\n",
        "* Company 683 in Industry 127 for Topic 63 shows a z-score of +19.15.\n",
        "* Company 344 in Industry 10 for Topic 64 has a z-score of +19.01."
      ]
    },
    {
      "cell_type": "markdown",
      "metadata": {
        "id": "CIA8XhiOCOus"
      },
      "source": [
        "There seems to be no overlap between interest_level and trend analysis for singular companies. This should be of no surprise given the volatility of interest levels and the fact that we don't have much data per company (max of 13 weeks). These different results can be used for different insights in the data."
      ]
    },
    {
      "cell_type": "markdown",
      "metadata": {
        "id": "O3wsRPiAW9mH"
      },
      "source": [
        "# Exploration of keywords that are explored together"
      ]
    },
    {
      "cell_type": "markdown",
      "metadata": {
        "id": "ldH95VkSE4_D"
      },
      "source": [
        "## Correlation analysis\n",
        "\n",
        "I will start with correlation analysis with both interest levels and trends:"
      ]
    },
    {
      "cell_type": "code",
      "execution_count": 13,
      "metadata": {
        "colab": {
          "base_uri": "https://localhost:8080/"
        },
        "id": "j6LLJOyGAz7E",
        "outputId": "5da2ef2f-f887-4cfa-ef74-f037edfdea27"
      },
      "outputs": [
        {
          "data": {
            "text/plain": [
              "topic_id  topic_id\n",
              "7         55          0.719978\n",
              "90        92          0.673888\n",
              "18        42          0.672566\n",
              "55        66          0.663364\n",
              "103       112         0.652181\n",
              "10        54          0.646760\n",
              "108       109         0.630074\n",
              "68        71          0.609431\n",
              "89        94          0.609385\n",
              "85        90          0.589100\n",
              "dtype: float64"
            ]
          },
          "execution_count": 13,
          "metadata": {},
          "output_type": "execute_result"
        }
      ],
      "source": [
        "company_topic_interest = df.groupby(['company_id', 'topic_id'])['interest_level'].mean().reset_index()\n",
        "\n",
        "\n",
        "pivot_table = company_topic_interest.pivot(index='company_id', columns='topic_id', values='interest_level').fillna(0)\n",
        "topic_correlations = pivot_table.corr()\n",
        "high_corr_pairs_interest = topic_correlations.where(np.triu(np.ones(topic_correlations.shape), k=1).astype(bool))\n",
        "strong_pairs_interest = high_corr_pairs_interest.stack()\n",
        "strong_pairs_interest = strong_pairs_interest[strong_pairs_interest > 0.5].sort_values(ascending=False)\n",
        "strong_pairs_interest.head(10)"
      ]
    },
    {
      "cell_type": "code",
      "execution_count": 14,
      "metadata": {
        "colab": {
          "base_uri": "https://localhost:8080/"
        },
        "id": "R9WzVY1cGTN3",
        "outputId": "e431193e-5b85-4fd5-e802-1d81bb088312"
      },
      "outputs": [
        {
          "data": {
            "text/plain": [
              "topic_id  topic_id\n",
              "7         55          0.749065\n",
              "90        92          0.684474\n",
              "18        42          0.682207\n",
              "55        66          0.665111\n",
              "68        71          0.634188\n",
              "103       112         0.632650\n",
              "10        54          0.625104\n",
              "85        90          0.601887\n",
              "108       109         0.599243\n",
              "68        70          0.594609\n",
              "dtype: float64"
            ]
          },
          "execution_count": 14,
          "metadata": {},
          "output_type": "execute_result"
        }
      ],
      "source": [
        "company_topic_interest = df.groupby(['company_id', 'topic_id'])['trend_score'].mean().reset_index()\n",
        "\n",
        "\n",
        "pivot_table = company_topic_interest.pivot(index='company_id', columns='topic_id', values='trend_score').fillna(0)\n",
        "topic_correlations = pivot_table.corr()\n",
        "high_corr_pairs_interest = topic_correlations.where(np.triu(np.ones(topic_correlations.shape), k=1).astype(bool))\n",
        "strong_pairs_interest = high_corr_pairs_interest.stack()\n",
        "strong_pairs_interest = strong_pairs_interest[strong_pairs_interest > 0.5].sort_values(ascending=False)\n",
        "strong_pairs_interest.head(10)"
      ]
    },
    {
      "cell_type": "markdown",
      "metadata": {
        "id": "YAxvVzn_Ggyn"
      },
      "source": [
        "There seems to be strong correlation in both discrete interest leves and continuous trends between topics 7/55, 90/92, 18/42 and 55/66. With pair 7/55 having by far the strongest correlation in both."
      ]
    },
    {
      "cell_type": "markdown",
      "metadata": {
        "id": "x2waI61RHCaW"
      },
      "source": [
        "## MLXtend - Mining Association Rules"
      ]
    },
    {
      "cell_type": "code",
      "execution_count": 15,
      "metadata": {
        "colab": {
          "base_uri": "https://localhost:8080/"
        },
        "id": "YZ1eUBCZHomP",
        "outputId": "a38675f0-cc02-4350-e9aa-256baf769369"
      },
      "outputs": [],
      "source": [
        "company_week_topics = df.groupby(['company_id', 'week'])['topic_id'].apply(list).reset_index(name='topics')\n",
        "transaction_lists = company_week_topics['topics'].tolist()\n",
        "\n",
        "te = TransactionEncoder()\n",
        "te_ary = te.fit(transaction_lists).transform(transaction_lists,sparse=True)\n",
        "sparse_df = pd.DataFrame.sparse.from_spmatrix(te_ary, columns=te.columns_)"
      ]
    },
    {
      "cell_type": "code",
      "execution_count": 16,
      "metadata": {
        "colab": {
          "base_uri": "https://localhost:8080/"
        },
        "id": "4Wumu0ppHs3X",
        "outputId": "0e39897c-6660-49e4-ef02-af46404dfaff"
      },
      "outputs": [
        {
          "name": "stdout",
          "output_type": "stream",
          "text": [
            "     antecedents consequents  antecedent support  consequent support  \\\n",
            "1948    (92, 85)        (90)            0.146823            0.333942   \n",
            "963     (18, 68)        (42)            0.167512            0.335489   \n",
            "1941    (81, 92)        (90)            0.140141            0.333942   \n",
            "1336    (92, 30)        (90)            0.149973            0.333942   \n",
            "1840    (92, 53)        (90)            0.136162            0.333942   \n",
            "1906    (68, 92)        (90)            0.133310            0.333942   \n",
            "1924    (75, 92)        (90)            0.133226            0.333942   \n",
            "1443    (32, 92)        (90)            0.153048            0.333942   \n",
            "1966   (92, 110)        (90)            0.154614            0.333942   \n",
            "1875    (64, 92)        (90)            0.165424            0.333942   \n",
            "\n",
            "       support  confidence      lift  leverage  conviction  zhangs_metric  \n",
            "1948  0.117272    0.798731  2.391823  0.068242    3.309284       0.682049  \n",
            "963   0.129853    0.775188  2.310619  0.073655    2.955848       0.681350  \n",
            "1941  0.107422    0.766525  2.295382  0.060623    2.852799       0.656320  \n",
            "1336  0.114392    0.762754  2.284090  0.064310    2.807456       0.661378  \n",
            "1840  0.103349    0.759017  2.272900  0.057879    2.763922       0.648308  \n",
            "1906  0.101159    0.758826  2.272326  0.056641    2.761727       0.646047  \n",
            "1924  0.100582    0.754966  2.260770  0.056092    2.718231       0.643389  \n",
            "1443  0.115427    0.754186  2.258433  0.064318    2.709603       0.657907  \n",
            "1966  0.116480    0.753360  2.255960  0.064848    2.700529       0.658551  \n",
            "1875  0.124261    0.751169  2.249398  0.069019    2.676747       0.665532  \n"
          ]
        }
      ],
      "source": [
        "frequent_itemsets = apriori(sparse_df, min_support=0.1, use_colnames=True,low_memory=True)\n",
        "rules = association_rules(frequent_itemsets, metric=\"confidence\", min_threshold=0.1 )\n",
        "\n",
        "\n",
        "print(rules.sort_values(by='confidence', ascending=False).head(10))"
      ]
    },
    {
      "cell_type": "markdown",
      "metadata": {
        "id": "fmxdQ8lpJaHF"
      },
      "source": [
        "Here we can see 92/90 and 18/42 pairs from the correlation analysis. 85/90 is also present in corr analysis and this pair has the most confidence in rule mining (92,85)/90"
      ]
    },
    {
      "cell_type": "markdown",
      "metadata": {
        "id": "H-WvJMl6XKNo"
      },
      "source": [
        "# Conclusion\n",
        "\n",
        "## High/Low interest per topic\n",
        "\n",
        "Trend score and interest_level analysis seems to give different results for company-level interest and industry-level low interest. However, there is overlap in industry-level high interest topic analysis.\n",
        "\n",
        "## Topic explored together\n",
        "\n",
        "Applying correlation and rule mining techniques resulted in identifying a couple of topics that are researched together: (92,85)/90 and 18/42"
      ]
    }
  ],
  "metadata": {
    "colab": {
      "provenance": []
    },
    "kernelspec": {
      "display_name": "Python 3",
      "name": "python3"
    },
    "language_info": {
      "codemirror_mode": {
        "name": "ipython",
        "version": 3
      },
      "file_extension": ".py",
      "mimetype": "text/x-python",
      "name": "python",
      "nbconvert_exporter": "python",
      "pygments_lexer": "ipython3",
      "version": "3.8.8"
    }
  },
  "nbformat": 4,
  "nbformat_minor": 0
}
