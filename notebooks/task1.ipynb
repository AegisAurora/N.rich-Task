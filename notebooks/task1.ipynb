{
  "cells": [
    {
      "cell_type": "code",
      "execution_count": 11,
      "metadata": {
        "id": "BbD8ZhgDsEPl"
      },
      "outputs": [],
      "source": [
        "import pandas as pd\n",
        "import numpy as np\n",
        "import matplotlib.pyplot as plt\n",
        "import seaborn as sns\n",
        "from sklearn.metrics import mean_squared_error\n",
        "from scipy.signal import find_peaks"
      ]
    },
    {
      "cell_type": "code",
      "execution_count": 12,
      "metadata": {
        "id": "FqSsl1CvsoMv"
      },
      "outputs": [],
      "source": [
        "df = pd.read_csv(\"test_dataset.csv\")"
      ]
    },
    {
      "cell_type": "code",
      "execution_count": 13,
      "metadata": {},
      "outputs": [
        {
          "name": "stdout",
          "output_type": "stream",
          "text": [
            "<class 'pandas.core.frame.DataFrame'>\n",
            "RangeIndex: 1641482 entries, 0 to 1641481\n",
            "Data columns (total 6 columns):\n",
            " #   Column          Non-Null Count    Dtype\n",
            "---  ------          --------------    -----\n",
            " 0   company_id      1641482 non-null  int64\n",
            " 1   industry_id     1641482 non-null  int64\n",
            " 2   topic_id        1641482 non-null  int64\n",
            " 3   category_id     1641482 non-null  int64\n",
            " 4   week            1641482 non-null  int64\n",
            " 5   interest_level  1641482 non-null  int64\n",
            "dtypes: int64(6)\n",
            "memory usage: 75.1 MB\n"
          ]
        }
      ],
      "source": [
        "df.info()"
      ]
    },
    {
      "cell_type": "markdown",
      "metadata": {
        "id": "sZ9ZeSyvh_UY"
      },
      "source": [
        "***EDA***"
      ]
    },
    {
      "cell_type": "code",
      "execution_count": null,
      "metadata": {
        "colab": {
          "base_uri": "https://localhost:8080/"
        },
        "id": "iqQ9n0rys-AH",
        "outputId": "9c856908-2e4f-430f-fcff-3dc729ad6e6c"
      },
      "outputs": [
        {
          "data": {
            "text/plain": [
              "company_id        0\n",
              "industry_id       0\n",
              "topic_id          0\n",
              "category_id       0\n",
              "week              0\n",
              "interest_level    0\n",
              "dtype: int64"
            ]
          },
          "execution_count": 7,
          "metadata": {},
          "output_type": "execute_result"
        }
      ],
      "source": [
        "df.isnull().sum() # no missing values"
      ]
    },
    {
      "cell_type": "code",
      "execution_count": null,
      "metadata": {
        "colab": {
          "base_uri": "https://localhost:8080/",
          "height": 300
        },
        "id": "EgRYGZistiYZ",
        "outputId": "575a4444-add8-410c-fce4-e2d697c2bdbb"
      },
      "outputs": [
        {
          "data": {
            "application/vnd.google.colaboratory.intrinsic+json": {
              "summary": "{\n  \"name\": \"df\",\n  \"rows\": 8,\n  \"fields\": [\n    {\n      \"column\": \"company_id\",\n      \"properties\": {\n        \"dtype\": \"number\",\n        \"std\": 578916.4514798976,\n        \"min\": 0.0,\n        \"max\": 1641482.0,\n        \"num_unique_values\": 8,\n        \"samples\": [\n          4332.134485787843,\n          4330.0,\n          1641482.0\n        ],\n        \"semantic_type\": \"\",\n        \"description\": \"\"\n      }\n    },\n    {\n      \"column\": \"industry_id\",\n      \"properties\": {\n        \"dtype\": \"number\",\n        \"std\": 580331.2323596058,\n        \"min\": 0.0,\n        \"max\": 1641482.0,\n        \"num_unique_values\": 8,\n        \"samples\": [\n          58.23454354053227,\n          55.0,\n          1641482.0\n        ],\n        \"semantic_type\": \"\",\n        \"description\": \"\"\n      }\n    },\n    {\n      \"column\": \"topic_id\",\n      \"properties\": {\n        \"dtype\": \"number\",\n        \"std\": 580331.485545691,\n        \"min\": 0.0,\n        \"max\": 1641482.0,\n        \"num_unique_values\": 8,\n        \"samples\": [\n          62.20208628544206,\n          67.0,\n          1641482.0\n        ],\n        \"semantic_type\": \"\",\n        \"description\": \"\"\n      }\n    },\n    {\n      \"column\": \"category_id\",\n      \"properties\": {\n        \"dtype\": \"number\",\n        \"std\": 580348.4602360708,\n        \"min\": 0.0,\n        \"max\": 1641482.0,\n        \"num_unique_values\": 7,\n        \"samples\": [\n          1641482.0,\n          10.290069583461774,\n          12.0\n        ],\n        \"semantic_type\": \"\",\n        \"description\": \"\"\n      }\n    },\n    {\n      \"column\": \"week\",\n      \"properties\": {\n        \"dtype\": \"number\",\n        \"std\": 580349.4567956462,\n        \"min\": 0.0,\n        \"max\": 1641482.0,\n        \"num_unique_values\": 8,\n        \"samples\": [\n          6.260332431302932,\n          6.0,\n          1641482.0\n        ],\n        \"semantic_type\": \"\",\n        \"description\": \"\"\n      }\n    },\n    {\n      \"column\": \"interest_level\",\n      \"properties\": {\n        \"dtype\": \"number\",\n        \"std\": 580341.4351237721,\n        \"min\": 4.0,\n        \"max\": 1641482.0,\n        \"num_unique_values\": 8,\n        \"samples\": [\n          22.58878988621258,\n          23.0,\n          1641482.0\n        ],\n        \"semantic_type\": \"\",\n        \"description\": \"\"\n      }\n    }\n  ]\n}",
              "type": "dataframe"
            },
            "text/html": [
              "\n",
              "  <div id=\"df-a4868b0e-9ded-4888-863b-aa4be0d4a581\" class=\"colab-df-container\">\n",
              "    <div>\n",
              "<style scoped>\n",
              "    .dataframe tbody tr th:only-of-type {\n",
              "        vertical-align: middle;\n",
              "    }\n",
              "\n",
              "    .dataframe tbody tr th {\n",
              "        vertical-align: top;\n",
              "    }\n",
              "\n",
              "    .dataframe thead th {\n",
              "        text-align: right;\n",
              "    }\n",
              "</style>\n",
              "<table border=\"1\" class=\"dataframe\">\n",
              "  <thead>\n",
              "    <tr style=\"text-align: right;\">\n",
              "      <th></th>\n",
              "      <th>company_id</th>\n",
              "      <th>industry_id</th>\n",
              "      <th>topic_id</th>\n",
              "      <th>category_id</th>\n",
              "      <th>week</th>\n",
              "      <th>interest_level</th>\n",
              "    </tr>\n",
              "  </thead>\n",
              "  <tbody>\n",
              "    <tr>\n",
              "      <th>count</th>\n",
              "      <td>1.641482e+06</td>\n",
              "      <td>1.641482e+06</td>\n",
              "      <td>1.641482e+06</td>\n",
              "      <td>1.641482e+06</td>\n",
              "      <td>1.641482e+06</td>\n",
              "      <td>1.641482e+06</td>\n",
              "    </tr>\n",
              "    <tr>\n",
              "      <th>mean</th>\n",
              "      <td>4.332134e+03</td>\n",
              "      <td>5.823454e+01</td>\n",
              "      <td>6.220209e+01</td>\n",
              "      <td>1.029007e+01</td>\n",
              "      <td>6.260332e+00</td>\n",
              "      <td>2.258879e+01</td>\n",
              "    </tr>\n",
              "    <tr>\n",
              "      <th>std</th>\n",
              "      <td>2.542727e+03</td>\n",
              "      <td>4.060059e+01</td>\n",
              "      <td>3.061275e+01</td>\n",
              "      <td>3.423136e+00</td>\n",
              "      <td>3.721889e+00</td>\n",
              "      <td>7.229663e+00</td>\n",
              "    </tr>\n",
              "    <tr>\n",
              "      <th>min</th>\n",
              "      <td>0.000000e+00</td>\n",
              "      <td>0.000000e+00</td>\n",
              "      <td>0.000000e+00</td>\n",
              "      <td>0.000000e+00</td>\n",
              "      <td>0.000000e+00</td>\n",
              "      <td>4.000000e+00</td>\n",
              "    </tr>\n",
              "    <tr>\n",
              "      <th>25%</th>\n",
              "      <td>2.077000e+03</td>\n",
              "      <td>2.300000e+01</td>\n",
              "      <td>3.900000e+01</td>\n",
              "      <td>1.000000e+01</td>\n",
              "      <td>3.000000e+00</td>\n",
              "      <td>1.800000e+01</td>\n",
              "    </tr>\n",
              "    <tr>\n",
              "      <th>50%</th>\n",
              "      <td>4.330000e+03</td>\n",
              "      <td>5.500000e+01</td>\n",
              "      <td>6.700000e+01</td>\n",
              "      <td>1.200000e+01</td>\n",
              "      <td>6.000000e+00</td>\n",
              "      <td>2.300000e+01</td>\n",
              "    </tr>\n",
              "    <tr>\n",
              "      <th>75%</th>\n",
              "      <td>6.539000e+03</td>\n",
              "      <td>9.600000e+01</td>\n",
              "      <td>8.500000e+01</td>\n",
              "      <td>1.200000e+01</td>\n",
              "      <td>1.000000e+01</td>\n",
              "      <td>2.500000e+01</td>\n",
              "    </tr>\n",
              "    <tr>\n",
              "      <th>max</th>\n",
              "      <td>8.716000e+03</td>\n",
              "      <td>1.290000e+02</td>\n",
              "      <td>1.130000e+02</td>\n",
              "      <td>1.300000e+01</td>\n",
              "      <td>1.200000e+01</td>\n",
              "      <td>1.000000e+02</td>\n",
              "    </tr>\n",
              "  </tbody>\n",
              "</table>\n",
              "</div>\n",
              "    <div class=\"colab-df-buttons\">\n",
              "\n",
              "  <div class=\"colab-df-container\">\n",
              "    <button class=\"colab-df-convert\" onclick=\"convertToInteractive('df-a4868b0e-9ded-4888-863b-aa4be0d4a581')\"\n",
              "            title=\"Convert this dataframe to an interactive table.\"\n",
              "            style=\"display:none;\">\n",
              "\n",
              "  <svg xmlns=\"http://www.w3.org/2000/svg\" height=\"24px\" viewBox=\"0 -960 960 960\">\n",
              "    <path d=\"M120-120v-720h720v720H120Zm60-500h600v-160H180v160Zm220 220h160v-160H400v160Zm0 220h160v-160H400v160ZM180-400h160v-160H180v160Zm440 0h160v-160H620v160ZM180-180h160v-160H180v160Zm440 0h160v-160H620v160Z\"/>\n",
              "  </svg>\n",
              "    </button>\n",
              "\n",
              "  <style>\n",
              "    .colab-df-container {\n",
              "      display:flex;\n",
              "      gap: 12px;\n",
              "    }\n",
              "\n",
              "    .colab-df-convert {\n",
              "      background-color: #E8F0FE;\n",
              "      border: none;\n",
              "      border-radius: 50%;\n",
              "      cursor: pointer;\n",
              "      display: none;\n",
              "      fill: #1967D2;\n",
              "      height: 32px;\n",
              "      padding: 0 0 0 0;\n",
              "      width: 32px;\n",
              "    }\n",
              "\n",
              "    .colab-df-convert:hover {\n",
              "      background-color: #E2EBFA;\n",
              "      box-shadow: 0px 1px 2px rgba(60, 64, 67, 0.3), 0px 1px 3px 1px rgba(60, 64, 67, 0.15);\n",
              "      fill: #174EA6;\n",
              "    }\n",
              "\n",
              "    .colab-df-buttons div {\n",
              "      margin-bottom: 4px;\n",
              "    }\n",
              "\n",
              "    [theme=dark] .colab-df-convert {\n",
              "      background-color: #3B4455;\n",
              "      fill: #D2E3FC;\n",
              "    }\n",
              "\n",
              "    [theme=dark] .colab-df-convert:hover {\n",
              "      background-color: #434B5C;\n",
              "      box-shadow: 0px 1px 3px 1px rgba(0, 0, 0, 0.15);\n",
              "      filter: drop-shadow(0px 1px 2px rgba(0, 0, 0, 0.3));\n",
              "      fill: #FFFFFF;\n",
              "    }\n",
              "  </style>\n",
              "\n",
              "    <script>\n",
              "      const buttonEl =\n",
              "        document.querySelector('#df-a4868b0e-9ded-4888-863b-aa4be0d4a581 button.colab-df-convert');\n",
              "      buttonEl.style.display =\n",
              "        google.colab.kernel.accessAllowed ? 'block' : 'none';\n",
              "\n",
              "      async function convertToInteractive(key) {\n",
              "        const element = document.querySelector('#df-a4868b0e-9ded-4888-863b-aa4be0d4a581');\n",
              "        const dataTable =\n",
              "          await google.colab.kernel.invokeFunction('convertToInteractive',\n",
              "                                                    [key], {});\n",
              "        if (!dataTable) return;\n",
              "\n",
              "        const docLinkHtml = 'Like what you see? Visit the ' +\n",
              "          '<a target=\"_blank\" href=https://colab.research.google.com/notebooks/data_table.ipynb>data table notebook</a>'\n",
              "          + ' to learn more about interactive tables.';\n",
              "        element.innerHTML = '';\n",
              "        dataTable['output_type'] = 'display_data';\n",
              "        await google.colab.output.renderOutput(dataTable, element);\n",
              "        const docLink = document.createElement('div');\n",
              "        docLink.innerHTML = docLinkHtml;\n",
              "        element.appendChild(docLink);\n",
              "      }\n",
              "    </script>\n",
              "  </div>\n",
              "\n",
              "\n",
              "<div id=\"df-72832ebd-9dc1-481d-914f-c290566994b1\">\n",
              "  <button class=\"colab-df-quickchart\" onclick=\"quickchart('df-72832ebd-9dc1-481d-914f-c290566994b1')\"\n",
              "            title=\"Suggest charts\"\n",
              "            style=\"display:none;\">\n",
              "\n",
              "<svg xmlns=\"http://www.w3.org/2000/svg\" height=\"24px\"viewBox=\"0 0 24 24\"\n",
              "     width=\"24px\">\n",
              "    <g>\n",
              "        <path d=\"M19 3H5c-1.1 0-2 .9-2 2v14c0 1.1.9 2 2 2h14c1.1 0 2-.9 2-2V5c0-1.1-.9-2-2-2zM9 17H7v-7h2v7zm4 0h-2V7h2v10zm4 0h-2v-4h2v4z\"/>\n",
              "    </g>\n",
              "</svg>\n",
              "  </button>\n",
              "\n",
              "<style>\n",
              "  .colab-df-quickchart {\n",
              "      --bg-color: #E8F0FE;\n",
              "      --fill-color: #1967D2;\n",
              "      --hover-bg-color: #E2EBFA;\n",
              "      --hover-fill-color: #174EA6;\n",
              "      --disabled-fill-color: #AAA;\n",
              "      --disabled-bg-color: #DDD;\n",
              "  }\n",
              "\n",
              "  [theme=dark] .colab-df-quickchart {\n",
              "      --bg-color: #3B4455;\n",
              "      --fill-color: #D2E3FC;\n",
              "      --hover-bg-color: #434B5C;\n",
              "      --hover-fill-color: #FFFFFF;\n",
              "      --disabled-bg-color: #3B4455;\n",
              "      --disabled-fill-color: #666;\n",
              "  }\n",
              "\n",
              "  .colab-df-quickchart {\n",
              "    background-color: var(--bg-color);\n",
              "    border: none;\n",
              "    border-radius: 50%;\n",
              "    cursor: pointer;\n",
              "    display: none;\n",
              "    fill: var(--fill-color);\n",
              "    height: 32px;\n",
              "    padding: 0;\n",
              "    width: 32px;\n",
              "  }\n",
              "\n",
              "  .colab-df-quickchart:hover {\n",
              "    background-color: var(--hover-bg-color);\n",
              "    box-shadow: 0 1px 2px rgba(60, 64, 67, 0.3), 0 1px 3px 1px rgba(60, 64, 67, 0.15);\n",
              "    fill: var(--button-hover-fill-color);\n",
              "  }\n",
              "\n",
              "  .colab-df-quickchart-complete:disabled,\n",
              "  .colab-df-quickchart-complete:disabled:hover {\n",
              "    background-color: var(--disabled-bg-color);\n",
              "    fill: var(--disabled-fill-color);\n",
              "    box-shadow: none;\n",
              "  }\n",
              "\n",
              "  .colab-df-spinner {\n",
              "    border: 2px solid var(--fill-color);\n",
              "    border-color: transparent;\n",
              "    border-bottom-color: var(--fill-color);\n",
              "    animation:\n",
              "      spin 1s steps(1) infinite;\n",
              "  }\n",
              "\n",
              "  @keyframes spin {\n",
              "    0% {\n",
              "      border-color: transparent;\n",
              "      border-bottom-color: var(--fill-color);\n",
              "      border-left-color: var(--fill-color);\n",
              "    }\n",
              "    20% {\n",
              "      border-color: transparent;\n",
              "      border-left-color: var(--fill-color);\n",
              "      border-top-color: var(--fill-color);\n",
              "    }\n",
              "    30% {\n",
              "      border-color: transparent;\n",
              "      border-left-color: var(--fill-color);\n",
              "      border-top-color: var(--fill-color);\n",
              "      border-right-color: var(--fill-color);\n",
              "    }\n",
              "    40% {\n",
              "      border-color: transparent;\n",
              "      border-right-color: var(--fill-color);\n",
              "      border-top-color: var(--fill-color);\n",
              "    }\n",
              "    60% {\n",
              "      border-color: transparent;\n",
              "      border-right-color: var(--fill-color);\n",
              "    }\n",
              "    80% {\n",
              "      border-color: transparent;\n",
              "      border-right-color: var(--fill-color);\n",
              "      border-bottom-color: var(--fill-color);\n",
              "    }\n",
              "    90% {\n",
              "      border-color: transparent;\n",
              "      border-bottom-color: var(--fill-color);\n",
              "    }\n",
              "  }\n",
              "</style>\n",
              "\n",
              "  <script>\n",
              "    async function quickchart(key) {\n",
              "      const quickchartButtonEl =\n",
              "        document.querySelector('#' + key + ' button');\n",
              "      quickchartButtonEl.disabled = true;  // To prevent multiple clicks.\n",
              "      quickchartButtonEl.classList.add('colab-df-spinner');\n",
              "      try {\n",
              "        const charts = await google.colab.kernel.invokeFunction(\n",
              "            'suggestCharts', [key], {});\n",
              "      } catch (error) {\n",
              "        console.error('Error during call to suggestCharts:', error);\n",
              "      }\n",
              "      quickchartButtonEl.classList.remove('colab-df-spinner');\n",
              "      quickchartButtonEl.classList.add('colab-df-quickchart-complete');\n",
              "    }\n",
              "    (() => {\n",
              "      let quickchartButtonEl =\n",
              "        document.querySelector('#df-72832ebd-9dc1-481d-914f-c290566994b1 button');\n",
              "      quickchartButtonEl.style.display =\n",
              "        google.colab.kernel.accessAllowed ? 'block' : 'none';\n",
              "    })();\n",
              "  </script>\n",
              "</div>\n",
              "\n",
              "    </div>\n",
              "  </div>\n"
            ],
            "text/plain": [
              "         company_id   industry_id      topic_id   category_id          week  \\\n",
              "count  1.641482e+06  1.641482e+06  1.641482e+06  1.641482e+06  1.641482e+06   \n",
              "mean   4.332134e+03  5.823454e+01  6.220209e+01  1.029007e+01  6.260332e+00   \n",
              "std    2.542727e+03  4.060059e+01  3.061275e+01  3.423136e+00  3.721889e+00   \n",
              "min    0.000000e+00  0.000000e+00  0.000000e+00  0.000000e+00  0.000000e+00   \n",
              "25%    2.077000e+03  2.300000e+01  3.900000e+01  1.000000e+01  3.000000e+00   \n",
              "50%    4.330000e+03  5.500000e+01  6.700000e+01  1.200000e+01  6.000000e+00   \n",
              "75%    6.539000e+03  9.600000e+01  8.500000e+01  1.200000e+01  1.000000e+01   \n",
              "max    8.716000e+03  1.290000e+02  1.130000e+02  1.300000e+01  1.200000e+01   \n",
              "\n",
              "       interest_level  \n",
              "count    1.641482e+06  \n",
              "mean     2.258879e+01  \n",
              "std      7.229663e+00  \n",
              "min      4.000000e+00  \n",
              "25%      1.800000e+01  \n",
              "50%      2.300000e+01  \n",
              "75%      2.500000e+01  \n",
              "max      1.000000e+02  "
            ]
          },
          "execution_count": 73,
          "metadata": {},
          "output_type": "execute_result"
        }
      ],
      "source": [
        "df.describe() #interest level is between 0-100!"
      ]
    },
    {
      "cell_type": "markdown",
      "metadata": {
        "id": "qGSdzwoauea3"
      },
      "source": [
        "**Lets explore interest levels**"
      ]
    },
    {
      "cell_type": "code",
      "execution_count": null,
      "metadata": {
        "colab": {
          "base_uri": "https://localhost:8080/",
          "height": 564
        },
        "id": "48TYae7yuWXD",
        "outputId": "401a088b-252a-441a-9cf8-dd7b04a84da3"
      },
      "outputs": [
        {
          "data": {
            "image/png": "[encoded data removed]",
            "text/plain": [
              "<Figure size 1000x600 with 1 Axes>"
            ]
          },
          "metadata": {},
          "output_type": "display_data"
        }
      ],
      "source": [
        "# Plotting the distribution of 'interest_level'\n",
        "plt.figure(figsize=(10, 6))\n",
        "sns.histplot(df['interest_level'], bins=30, kde=True)\n",
        "plt.title('Distribution of Interest Level')\n",
        "plt.xlabel('Interest Level')\n",
        "plt.ylabel('Frequency')\n",
        "plt.show()"
      ]
    },
    {
      "cell_type": "code",
      "execution_count": null,
      "metadata": {
        "colab": {
          "base_uri": "https://localhost:8080/",
          "height": 564
        },
        "id": "9IctcatZul7o",
        "outputId": "390a6709-4741-4d23-9a25-48c6160872fe"
      },
      "outputs": [
        {
          "data": {
            "image/png": "[encoded data removed]",
            "text/plain": [
              "<Figure size 1000x600 with 1 Axes>"
            ]
          },
          "metadata": {},
          "output_type": "display_data"
        }
      ],
      "source": [
        "# Plotting average interest level over time\n",
        "weekly_interest = df.groupby('week')['interest_level'].mean().reset_index()\n",
        "\n",
        "plt.figure(figsize=(10, 6))\n",
        "sns.lineplot(data=weekly_interest, x='week', y='interest_level')\n",
        "plt.title('Average Interest Level Over Time')\n",
        "plt.xlabel('Week')\n",
        "plt.ylabel('Average Interest Level')\n",
        "plt.show()"
      ]
    },
    {
      "cell_type": "markdown",
      "metadata": {
        "id": "V_sNRnn7ZAfa"
      },
      "source": [
        "**Explore mappings between topic_id/category_id and company_id/industry_id**"
      ]
    },
    {
      "cell_type": "code",
      "execution_count": null,
      "metadata": {
        "colab": {
          "base_uri": "https://localhost:8080/"
        },
        "id": "nYSBaeK8Y_--",
        "outputId": "6b709abf-f4da-4b77-ca7a-c18304d9d71c"
      },
      "outputs": [
        {
          "name": "stdout",
          "output_type": "stream",
          "text": [
            "Each topic_id maps to exactly one category_id. No discrepancies found.\n"
          ]
        }
      ],
      "source": [
        "topic_category_mapping = df.groupby('topic_id')['category_id'].nunique()\n",
        "\n",
        "discrepancies_topic_category = topic_category_mapping[topic_category_mapping > 1]\n",
        "\n",
        "if discrepancies_topic_category.empty:\n",
        "    print(\"Each topic_id maps to exactly one category_id. No discrepancies found.\")\n",
        "else:\n",
        "    print(\"Discrepancies found in topic_id to category_id mapping:\")\n",
        "    print(discrepancies_topic_category)"
      ]
    },
    {
      "cell_type": "code",
      "execution_count": null,
      "metadata": {
        "colab": {
          "base_uri": "https://localhost:8080/"
        },
        "id": "_Dbqfe_IZUDl",
        "outputId": "bb3a92a6-07a4-4127-892f-1f88110406ae"
      },
      "outputs": [
        {
          "name": "stdout",
          "output_type": "stream",
          "text": [
            "Each company_id maps to exactly one industry_id. No discrepancies found.\n"
          ]
        }
      ],
      "source": [
        "company_industry_mapping = df.groupby('company_id')['industry_id'].nunique()\n",
        "\n",
        "discrepancies_company_industry = company_industry_mapping[company_industry_mapping > 1]\n",
        "\n",
        "if discrepancies_company_industry.empty:\n",
        "    print(\"Each company_id maps to exactly one industry_id. No discrepancies found.\")\n",
        "else:\n",
        "    print(\"Discrepancies found in company_id to industry_id mapping:\")\n",
        "    print(discrepancies_company_industry)"
      ]
    },
    {
      "cell_type": "markdown",
      "metadata": {
        "id": "kQMkwtH3Tov5"
      },
      "source": [
        "**Explore missing weeks for company_id, topic_id pairs**"
      ]
    },
    {
      "cell_type": "code",
      "execution_count": null,
      "metadata": {
        "colab": {
          "base_uri": "https://localhost:8080/",
          "height": 564
        },
        "id": "QJrvfa5ST02X",
        "outputId": "7d6a517b-2062-4079-9f95-b3164dc7f7f6"
      },
      "outputs": [
        {
          "data": {
            "image/png": "[encoded data removed]",
            "text/plain": [
              "<Figure size 1000x600 with 1 Axes>"
            ]
          },
          "metadata": {},
          "output_type": "display_data"
        }
      ],
      "source": [
        "all_combinations = pd.MultiIndex.from_product([\n",
        "    df['company_id'].unique(),\n",
        "    df['topic_id'].unique(),\n",
        "    range(df['week'].min(), df['week'].max() + 1)\n",
        "], names=['company_id', 'topic_id', 'week']).to_frame(index=False)\n",
        "\n",
        "\n",
        "df_full = pd.merge(all_combinations, df, on=['company_id', 'topic_id', 'week'], how='left')\n",
        "\n",
        "\n",
        "df_full['is_missing'] = df_full['interest_level'].isna()\n",
        "max_weeks_per_pair = df_full.groupby(['company_id', 'topic_id'])['week'].nunique().reset_index(name='total_weeks_present')\n",
        "\n",
        "\n",
        "missing_weeks_count = df_full.groupby(['company_id', 'topic_id'])['is_missing'].sum().reset_index(name='missing_weeks_count')\n",
        "\n",
        "\n",
        "missing_analysis = pd.merge(missing_weeks_count, max_weeks_per_pair, on=['company_id', 'topic_id'])\n",
        "\n",
        "\n",
        "missing_analysis['recorded_weeks_count'] = missing_analysis['total_weeks_present'] - missing_analysis['missing_weeks_count']\n",
        "\n",
        "# include only pairs with at least one record\n",
        "missing_analysis = missing_analysis[missing_analysis['recorded_weeks_count'] > 0]\n",
        "\n",
        "\n",
        "plt.figure(figsize=(10, 6))\n",
        "plt.hist(missing_analysis['recorded_weeks_count'], bins=range(int(missing_analysis['recorded_weeks_count'].max())), alpha=0.75, edgecolor='black')\n",
        "plt.xlabel('Number of Recorded Weeks')\n",
        "plt.ylabel('Number of Company-Topic Pairs')\n",
        "plt.title('Histogram of Recorded Weeks Across Company-Topic Pairs')\n",
        "plt.xticks(range(int(missing_analysis['recorded_weeks_count'].max())))\n",
        "plt.grid(axis='y', alpha=0.75)\n",
        "plt.show()"
      ]
    },
    {
      "cell_type": "markdown",
      "metadata": {},
      "source": [
        "*Explore the first week for each company/topic pair.*"
      ]
    },
    {
      "cell_type": "code",
      "execution_count": 64,
      "metadata": {},
      "outputs": [
        {
          "name": "stdout",
          "output_type": "stream",
          "text": [
            "count    246254.000000\n",
            "mean          2.639385\n",
            "std           3.514554\n",
            "min           0.000000\n",
            "25%           0.000000\n",
            "50%           1.000000\n",
            "75%           4.000000\n",
            "max          12.000000\n",
            "Name: first_week, dtype: float64\n"
          ]
        }
      ],
      "source": [
        "first_week_df = df.groupby(['company_id', 'topic_id'])['week'].min().reset_index(name='first_week')\n",
        "print(first_week_df['first_week'].describe())"
      ]
    },
    {
      "cell_type": "code",
      "execution_count": 65,
      "metadata": {},
      "outputs": [
        {
          "data": {
            "image/png": "[encoded data removed]",
            "text/plain": [
              "<Figure size 720x432 with 1 Axes>"
            ]
          },
          "metadata": {
            "needs_background": "light"
          },
          "output_type": "display_data"
        }
      ],
      "source": [
        "plt.figure(figsize=(10, 6))\n",
        "plt.hist(first_week_df['first_week'], bins=range(int(first_week_df['first_week'].min()), int(first_week_df['first_week'].max()) + 1), alpha=0.75, edgecolor='black')\n",
        "plt.xlabel('First Week')\n",
        "plt.ylabel('Number of Company-Topic Pairs')\n",
        "plt.title('Distribution of First Weeks Across Company-Topic Pairs')\n",
        "plt.xticks(range(int(first_week_df['first_week'].min()), int(first_week_df['first_week'].max()) + 1))\n",
        "plt.grid(axis='y', alpha=0.75)\n",
        "plt.show()\n"
      ]
    },
    {
      "cell_type": "markdown",
      "metadata": {},
      "source": [
        "Not all company/topic pairs start from week 0, this is something to keep in mind."
      ]
    },
    {
      "cell_type": "markdown",
      "metadata": {
        "id": "oERLWv0TiXxW"
      },
      "source": [
        "***Suggestions on how to assess \"the volatility of the scores\". Please, design a metric to show how\n",
        "good is the solution comparing to the baseline (original scores).***"
      ]
    },
    {
      "cell_type": "markdown",
      "metadata": {
        "id": "M6lrTUsWigtW"
      },
      "source": [
        "I will use a unified metric combining correalation, volatility reduction and peak detection accuracy to assess the effectiveness of my trend scoring method.\n",
        "\n",
        "The individual metrics are normalized and combined into a single weighted score. The implementation is below:"
      ]
    },
    {
      "cell_type": "code",
      "execution_count": 14,
      "metadata": {
        "id": "7kZUYeBXR3c4"
      },
      "outputs": [],
      "source": [
        "def evaluate_trend_scores(df, original_col, trend_col):\n",
        "    \"\"\"\n",
        "    Evaluates the trend scoring method using various metrics.\n",
        "\n",
        "    Parameters:\n",
        "    - df: DataFrame containing the data.\n",
        "    - original_col: String name of the column with original interest levels.\n",
        "    - trend_col: String name of the column with calculated trend scores.\n",
        "\n",
        "    Returns:\n",
        "    - A dictionary with calculated metrics ( Correalation, Volatility, PDA).\n",
        "    \"\"\"\n",
        "\n",
        "    analysis_df = df.dropna(subset=[original_col, trend_col])\n",
        "\n",
        "\n",
        "\n",
        "\n",
        "    correlation_coefficient = np.corrcoef(analysis_df[original_col], analysis_df[trend_col])[0, 1]\n",
        "\n",
        "    original_volatility = analysis_df[original_col].std()\n",
        "    trend_volatility = analysis_df[trend_col].std()\n",
        "    volatility_diff = original_volatility - trend_volatility\n",
        "\n",
        "    original_peaks, _ = find_peaks(analysis_df[original_col])\n",
        "    trend_peaks, _ = find_peaks(analysis_df[trend_col])\n",
        "    common_peaks = set(original_peaks).intersection(set(trend_peaks))\n",
        "    peak_detection_accuracy = len(common_peaks) / len(original_peaks) if original_peaks.size > 0 else np.nan\n",
        "\n",
        "\n",
        "    results = {\n",
        "        'Correlation Coefficient': correlation_coefficient,\n",
        "        'Original Volatility': original_volatility,\n",
        "        'Volatility difference': volatility_diff,\n",
        "        'Peak Detection Accuracy': peak_detection_accuracy,\n",
        "    }\n",
        "\n",
        "    return results\n",
        "\n",
        "def normalize_metric(metric, best, worst, invert=False):\n",
        "    \"\"\"\n",
        "    Normalize a metric to a 0-1 scale.\n",
        "\n",
        "    Parameters:\n",
        "    - metric: The metric value to normalize.\n",
        "    - best: The value of the metric that represents the best case.\n",
        "    - worst: The value of the metric that represents the worst case.\n",
        "    - invert: Set to True if lower values are better.\n",
        "\n",
        "    Returns:\n",
        "    - The normalized metric value.\n",
        "    \"\"\"\n",
        "    if invert:\n",
        "        return (worst - metric) / (worst - best)\n",
        "    else:\n",
        "        return (metric - worst) / (best - worst)\n",
        "\n",
        "def score(results):\n",
        "  \"\"\"\n",
        "  Scores the results under a unified, normalized and weighted metric.\n",
        "\n",
        "  Parameters:\n",
        "  - results: Dictionary of results\n",
        "\n",
        "  Returns:\n",
        "  - unfied score\n",
        "  \"\"\"\n",
        "  correlation_normalized = normalize_metric(results['Correlation Coefficient'], best=1, worst=-1)\n",
        "  peak_accuracy_normalized = normalize_metric(results['Peak Detection Accuracy'], best=1, worst=0)\n",
        "\n",
        "\n",
        "  weights = {\n",
        "      'correlation': 0.4,\n",
        "      'variance_diff_weight': 0.5,\n",
        "      'peak_accuracy': 0.1\n",
        "  }\n",
        "\n",
        "\n",
        "  composite_score = (\n",
        "      correlation_normalized * weights['correlation'] +\n",
        "      (results[\"Volatility difference\"] / results[\"Original Volatility\"]) * weights['variance_diff_weight'] +\n",
        "      peak_accuracy_normalized * weights['peak_accuracy']\n",
        "  )\n",
        "\n",
        "  return composite_score"
      ]
    },
    {
      "cell_type": "markdown",
      "metadata": {
        "id": "cDbigCpgj9_Q"
      },
      "source": [
        "***Proposed scoring method***"
      ]
    },
    {
      "cell_type": "markdown",
      "metadata": {
        "id": "14eiavz8WNYv"
      },
      "source": [
        "*For the pairs of company_id/topic_id that have at least one entry, we fill the missing weeks with interest rate equal to 0. I acknowledge that not all of the company/topic pairs start from week 0, however this does not affect the trend score analysis by any significant degree, because we reward recent activity more.*\n",
        "\n",
        "*We also add a column original_indicator to differentiate data present in the original dataset from filled data*"
      ]
    },
    {
      "cell_type": "code",
      "execution_count": 15,
      "metadata": {},
      "outputs": [],
      "source": [
        "df[\"original_indicator\"] = True\n",
        "# pairs from the original dataset\n",
        "unique_pairs = df[['company_id', 'topic_id']].drop_duplicates()\n",
        "all_weeks = pd.DataFrame({\n",
        "    'week': range(df['week'].min(), df['week'].max() + 1)\n",
        "})\n",
        "# cross join with a key\n",
        "unique_pairs['key'] = 1\n",
        "all_weeks['key'] = 1\n",
        "all_combinations = pd.merge(unique_pairs, all_weeks, on='key').drop('key', axis=1)\n",
        "\n",
        "df_full = pd.merge(all_combinations, df, on=['company_id', 'topic_id', 'week'], how='left')\n",
        "df_full['original_indicator'] = ~df_full['interest_level'].isna()\n",
        "# replace NaNs in 'interest_level' with 0\n",
        "df_full['interest_level'] = df_full['interest_level'].fillna(0)\n"
      ]
    },
    {
      "cell_type": "code",
      "execution_count": 16,
      "metadata": {},
      "outputs": [],
      "source": [
        "# function for normalizing the trend scores.\n",
        "def normalize_trend_score(change, pos_scale, neg_scale):\n",
        "    if change > 0:\n",
        "        return 50 + (50 * (change / pos_scale))\n",
        "    elif change < 0:\n",
        "        return 50 - (50 * (abs(change) / neg_scale))\n",
        "    else:\n",
        "        return 50"
      ]
    },
    {
      "cell_type": "markdown",
      "metadata": {},
      "source": [
        "I will use the EWM with halflife of 2 for soothing (Chose the argument with testing). Because of the nature of the data (a lot of missing weeks, not many weeks total) and the task present (want to reward recent activity more), EWMA seems perfect for the task. It's simple, fast, smooths out short-term fluctuations, and is very responsive to recent activity.\n",
        "\n",
        "The trend score is normalized according to the task."
      ]
    },
    {
      "cell_type": "code",
      "execution_count": 17,
      "metadata": {
        "id": "gyyMPivfWffE"
      },
      "outputs": [
        {
          "data": {
            "text/plain": [
              "0          50.000000\n",
              "1          46.739130\n",
              "2          48.649304\n",
              "3          44.828957\n",
              "4          52.022509\n",
              "             ...    \n",
              "3201297    50.000000\n",
              "3201298    50.000000\n",
              "3201299    50.000000\n",
              "3201300    50.000000\n",
              "3201301    53.795183\n",
              "Name: trend_score, Length: 3201302, dtype: float64"
            ]
          },
          "execution_count": 17,
          "metadata": {},
          "output_type": "execute_result"
        }
      ],
      "source": [
        "df_full['weekly_change'] = df_full.groupby(['company_id', 'topic_id'])['interest_level'].diff()\n",
        "\n",
        "\n",
        "df_full['smoothed_change'] = df_full.groupby(['company_id', 'topic_id'])['weekly_change'].transform(lambda x: x.ewm(halflife=2).mean())\n",
        "\n",
        "pos_scale = df_full['smoothed_change'][df_full['smoothed_change'] > 0].max()\n",
        "neg_scale = df_full['smoothed_change'][df_full['smoothed_change'] < 0].abs().max()\n",
        "\n",
        "# apply normalization to calculate the trend scores\n",
        "df_full['trend_score'] = df_full['smoothed_change'].apply(normalize_trend_score, args=(pos_scale, neg_scale))\n",
        "df_full[\"trend_score\"].fillna(50)"
      ]
    },
    {
      "cell_type": "code",
      "execution_count": 18,
      "metadata": {
        "colab": {
          "base_uri": "https://localhost:8080/"
        },
        "id": "z7UMHvnUWoie",
        "outputId": "57e05e11-7669-492c-e595-baaa1fa0efb3"
      },
      "outputs": [
        {
          "name": "stdout",
          "output_type": "stream",
          "text": [
            "{'Correlation Coefficient': 0.6189622364399885, 'Original Volatility': 12.420992274810237, 'Volatility difference': 9.344692538702297, 'Peak Detection Accuracy': 0.869336463462822}\n",
            "0.7868913923460956\n"
          ]
        }
      ],
      "source": [
        "evaluation_results = evaluate_trend_scores(df_full, 'interest_level', 'trend_score')\n",
        "print(evaluation_results)\n",
        "print(score(evaluation_results))"
      ]
    },
    {
      "cell_type": "markdown",
      "metadata": {},
      "source": [
        "**Get last 4 weeks data in a separate CSV, I will only include entries that were present in the original dataset.**"
      ]
    },
    {
      "cell_type": "code",
      "execution_count": 19,
      "metadata": {},
      "outputs": [],
      "source": [
        "max_week = df_full['week'].max()\n",
        "original_last_4_weeks_df = df_full[(df_full['week'] > max_week - 4) & (df_full['original_indicator'])]\n",
        "output_df = original_last_4_weeks_df[['company_id', 'topic_id', 'category_id','industry_id','week', 'trend_score']]\n",
        "output_file_path = 'original_trend_scores_last_4_weeks.csv'\n",
        "output_df.to_csv(output_file_path, index=False)"
      ]
    },
    {
      "cell_type": "code",
      "execution_count": null,
      "metadata": {},
      "outputs": [],
      "source": []
    }
  ],
  "metadata": {
    "colab": {
      "provenance": []
    },
    "kernelspec": {
      "display_name": "Python 3",
      "name": "python3"
    },
    "language_info": {
      "codemirror_mode": {
        "name": "ipython",
        "version": 3
      },
      "file_extension": ".py",
      "mimetype": "text/x-python",
      "name": "python",
      "nbconvert_exporter": "python",
      "pygments_lexer": "ipython3",
      "version": "3.8.8"
    }
  },
  "nbformat": 4,
  "nbformat_minor": 0
}
